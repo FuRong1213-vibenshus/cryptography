{
 "cells": [
  {
   "cell_type": "code",
   "execution_count": 80,
   "id": "aed881e0",
   "metadata": {},
   "outputs": [
    {
     "name": "stdout",
     "output_type": "stream",
     "text": [
      "ksrobbrergnf\n",
      "helloworld  \n"
     ]
    }
   ],
   "source": [
    "import numpy as np\n",
    "import math\n",
    "alphabet = \"abcdefghijklmnopqrstuvwxyz \"\n",
    "a = 'helloworld'\n",
    "keyword = \"dog\"\n",
    "keyIndex= [alphabet.index(s) for s in keyword]\n",
    "\n",
    "def encrypt_func(keyIdx, row):\n",
    "    return [alphabet[(alphabet.index(i)+keyIndex[keyIdx])%27] for i in row]\n",
    "\n",
    "def decrypt_func(keyIdx, row):\n",
    "    return [alphabet[(alphabet.index(i)-keyIndex[keyIdx]+27)%27] for i in row]\n",
    "\n",
    "\n",
    "def vigener_cipher(a = a, keyword=keyword):\n",
    "    \n",
    "    pad_length = math.ceil(len(a)/len(keyword))*len(keyword)\n",
    "\n",
    "    b = np.array(list(a.ljust(pad_length, \" \")))\n",
    "    b_array= np.reshape(b,(pad_length//len(keyword),len(keyword))).T\n",
    "    cipherText = np.reshape(np.array([encrypt_func(i,x) for i, x in enumerate(b_array)]).T, (1, -1))\n",
    "    return np.array2string(cipherText[0], \n",
    "                           separator = '',\n",
    "                           formatter={'str_kind':lambda x: x}).strip(\"[]\")\n",
    "cipherText = vigener_cipher()\n",
    "print(cipherText)\n",
    "\n",
    "\n",
    "\n",
    "\n",
    "def vigener_decrypt(cipherText, keyword=keyword):\n",
    "    b_array=np.reshape(list(cipherText),(len(cipherText)//len(keyword), len(keyword))).T\n",
    "    origText = np.reshape(np.array([decrypt_func(i,x) for i, x in enumerate(b_array)]).T,(1,-1))\n",
    "    return np.array2string(origText, \n",
    "                           separator = '',\n",
    "                           formatter={'str_kind':lambda x: x}).strip(\"[]\")\n",
    "    \n",
    "decryptText = vigener_decrypt(cipherText)\n",
    "print(decryptText)"
   ]
  },
  {
   "cell_type": "code",
   "execution_count": null,
   "id": "6c921bd6",
   "metadata": {},
   "outputs": [],
   "source": []
  }
 ],
 "metadata": {
  "kernelspec": {
   "display_name": "Python 3 (ipykernel)",
   "language": "python",
   "name": "python3"
  },
  "language_info": {
   "codemirror_mode": {
    "name": "ipython",
    "version": 3
   },
   "file_extension": ".py",
   "mimetype": "text/x-python",
   "name": "python",
   "nbconvert_exporter": "python",
   "pygments_lexer": "ipython3",
   "version": "3.12.3"
  }
 },
 "nbformat": 4,
 "nbformat_minor": 5
}
